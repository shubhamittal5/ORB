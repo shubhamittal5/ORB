{
 "cells": [
  {
   "cell_type": "code",
   "execution_count": null,
   "id": "c482843c",
   "metadata": {},
   "outputs": [],
   "source": []
  },
  {
   "cell_type": "code",
   "execution_count": 2,
   "id": "f8f3a629",
   "metadata": {},
   "outputs": [],
   "source": [
    "from skimage.metrics import structural_similarity\n",
    "import os\n",
    "import cv2\n",
    "from skimage.transform import resize\n",
    "import pandas as pd\n",
    "from IPython.display import Image"
   ]
  },
  {
   "cell_type": "markdown",
   "id": "274ee355",
   "metadata": {},
   "source": [
    "# ORB"
   ]
  },
  {
   "cell_type": "code",
   "execution_count": 3,
   "id": "970c3f45",
   "metadata": {},
   "outputs": [],
   "source": [
    "def orb_sim(img1,img2):\n",
    "    orb=cv2.ORB_create()\n",
    "    \n",
    "    kp_a,desc_a=orb.detectAndCompute(img1,None)\n",
    "    kp_b,desc_b=orb.detectAndCompute(img2,None)\n",
    "    \n",
    "    bf=cv2.BFMatcher(cv2.NORM_HAMMING,crossCheck=True)\n",
    "    matches= bf.match(desc_a,desc_b)\n",
    "    similar_region=[i for i in matches if i.distance<60]\n",
    "    if len(matches)==0:\n",
    "        return 0\n",
    "    return len(similar_region)/len(matches)\n"
   ]
  },
  {
   "cell_type": "code",
   "execution_count": 4,
   "id": "d24fb4dc",
   "metadata": {},
   "outputs": [],
   "source": [
    "x=\"1images.jpeg\"\n",
    "#y=\"GettyImages-1163331995-f5226107e4794ed5b334c23215ed28db.jpg\""
   ]
  },
  {
   "cell_type": "code",
   "execution_count": 5,
   "id": "239a1432",
   "metadata": {},
   "outputs": [],
   "source": [
    "#import os\n",
    "#os.listdir(os.getcwd()+\"\\\\pics\")"
   ]
  },
  {
   "cell_type": "code",
   "execution_count": 6,
   "id": "23338ddd",
   "metadata": {},
   "outputs": [],
   "source": [
    "img1=cv2.imread(x,0)\n",
    "#img2=cv2.imread(y,0)\n",
    "#img2=cv2.imread(\"1index.jpeg\",0)\n",
    "#orb_sim(img1,img2)*100"
   ]
  },
  {
   "cell_type": "code",
   "execution_count": 7,
   "id": "43d05ce2",
   "metadata": {},
   "outputs": [
    {
     "data": {
      "text/html": [
       "<div>\n",
       "<style scoped>\n",
       "    .dataframe tbody tr th:only-of-type {\n",
       "        vertical-align: middle;\n",
       "    }\n",
       "\n",
       "    .dataframe tbody tr th {\n",
       "        vertical-align: top;\n",
       "    }\n",
       "\n",
       "    .dataframe thead th {\n",
       "        text-align: right;\n",
       "    }\n",
       "</style>\n",
       "<table border=\"1\" class=\"dataframe\">\n",
       "  <thead>\n",
       "    <tr style=\"text-align: right;\">\n",
       "      <th></th>\n",
       "      <th>Image_name</th>\n",
       "      <th>ORB_numb</th>\n",
       "    </tr>\n",
       "  </thead>\n",
       "  <tbody>\n",
       "    <tr>\n",
       "      <th>0</th>\n",
       "      <td>1images.jpeg</td>\n",
       "      <td>100.000000</td>\n",
       "    </tr>\n",
       "    <tr>\n",
       "      <th>1</th>\n",
       "      <td>images.jpeg</td>\n",
       "      <td>54.545455</td>\n",
       "    </tr>\n",
       "    <tr>\n",
       "      <th>2</th>\n",
       "      <td>black-dog-breeds-black-labrador-retriever-1566...</td>\n",
       "      <td>38.095238</td>\n",
       "    </tr>\n",
       "    <tr>\n",
       "      <th>3</th>\n",
       "      <td>1index.jpeg</td>\n",
       "      <td>34.831461</td>\n",
       "    </tr>\n",
       "    <tr>\n",
       "      <th>4</th>\n",
       "      <td>GettyImages-1163331995-f5226107e4794ed5b334c23...</td>\n",
       "      <td>19.767442</td>\n",
       "    </tr>\n",
       "    <tr>\n",
       "      <th>5</th>\n",
       "      <td>237-536x354.jpg</td>\n",
       "      <td>16.161616</td>\n",
       "    </tr>\n",
       "    <tr>\n",
       "      <th>6</th>\n",
       "      <td>iendex.jpg</td>\n",
       "      <td>11.363636</td>\n",
       "    </tr>\n",
       "  </tbody>\n",
       "</table>\n",
       "</div>"
      ],
      "text/plain": [
       "                                          Image_name    ORB_numb\n",
       "0                                       1images.jpeg  100.000000\n",
       "1                                        images.jpeg   54.545455\n",
       "2  black-dog-breeds-black-labrador-retriever-1566...   38.095238\n",
       "3                                        1index.jpeg   34.831461\n",
       "4  GettyImages-1163331995-f5226107e4794ed5b334c23...   19.767442\n",
       "5                                    237-536x354.jpg   16.161616\n",
       "6                                         iendex.jpg   11.363636"
      ]
     },
     "execution_count": 7,
     "metadata": {},
     "output_type": "execute_result"
    }
   ],
   "source": [
    "\n",
    "error=[]\n",
    "orb=[]\n",
    "imagee=[]\n",
    "for i in os.listdir(os.getcwd()+\"\\\\pics\"):\n",
    "    try:\n",
    "\n",
    "        img1=cv2.imread(x,0)\n",
    "        img2=cv2.imread(i,0)\n",
    "        #img2=cv2.imread(\"1index.jpeg\",0)\n",
    "        #print(\"Image\",i,\" orb==\",orb_sim(img1,img2)*100)\n",
    "        orb.append(orb_sim(img1,img2)*100)\n",
    "        imagee.append(i)\n",
    "    except:\n",
    "       # print(\"soory\")\n",
    "        error.append(i)\n",
    "        \n",
    "## data frame\n",
    "data = {\n",
    "  \"Image_name\": imagee,\n",
    "  \"ORB_numb\": orb}\n",
    "\n",
    "df = pd.DataFrame(data)\n",
    "df=df.sort_values('ORB_numb',ascending=False).reset_index(drop=True)\n",
    "df"
   ]
  },
  {
   "cell_type": "code",
   "execution_count": null,
   "id": "b1380f7f",
   "metadata": {},
   "outputs": [],
   "source": []
  },
  {
   "cell_type": "code",
   "execution_count": null,
   "id": "d49e2361",
   "metadata": {},
   "outputs": [],
   "source": []
  },
  {
   "cell_type": "code",
   "execution_count": 8,
   "id": "a1d78b92",
   "metadata": {},
   "outputs": [
    {
     "data": {
      "image/jpeg": "[encoded data removed]",
      "text/plain": [
       "<IPython.core.display.Image object>"
      ]
     },
     "execution_count": 8,
     "metadata": {},
     "output_type": "execute_result"
    }
   ],
   "source": [
    "\n",
    "Image(filename=x) "
   ]
  },
  {
   "cell_type": "code",
   "execution_count": 9,
   "id": "600b6694",
   "metadata": {},
   "outputs": [
    {
     "name": "stdout",
     "output_type": "stream",
     "text": [
      "Orb 54.54545454545454\n"
     ]
    },
    {
     "data": {
      "image/jpeg": "[encoded data removed]",
      "text/plain": [
       "<IPython.core.display.Image object>"
      ]
     },
     "execution_count": 9,
     "metadata": {},
     "output_type": "execute_result"
    }
   ],
   "source": [
    "o=1\n",
    "print(\"Orb\",df[\"ORB_numb\"][o])\n",
    "Image(filename=df[\"Image_name\"][o]) "
   ]
  },
  {
   "cell_type": "code",
   "execution_count": null,
   "id": "1dde1b38",
   "metadata": {},
   "outputs": [],
   "source": []
  },
  {
   "cell_type": "code",
   "execution_count": null,
   "id": "68ad1030",
   "metadata": {},
   "outputs": [],
   "source": []
  },
  {
   "cell_type": "code",
   "execution_count": null,
   "id": "e4c5ddcc",
   "metadata": {},
   "outputs": [],
   "source": [
    "## pip install azure-storage \n",
    "\n",
    "import os\n",
    "from azure.storage.blob import BlobServiceClient, BlobClient, ContainerClient\n",
    "\n",
    "# Define connection string and container name\n",
    "connect_str = \"DefaultEndpointsProtocol=https;AccountName=<account-name>;AccountKey=<account-key>;EndpointSuffix=core.windows.net\"\n",
    "container_name = \"<container-name>\"\n",
    "\n",
    "# Create BlobServiceClient object\n",
    "blob_service_client = BlobServiceClient.from_connection_string(connect_str)\n",
    "\n",
    "# Create ContainerClient object\n",
    "container_client = blob_service_client.get_container_client(container_name)\n",
    "\n",
    "# Define local file path and blob name\n",
    "local_path = \"<local-file-path>\"\n",
    "blob_name = \"<blob-name>\"\n",
    "\n",
    "# Create BlobClient object\n",
    "blob_client = blob_service_client.get_blob_client(container=container_name, blob=blob_name)\n",
    "\n",
    "# Upload blob to Azure Blob Storage\n",
    "with open(local_path, \"rb\") as data:\n",
    "    blob_client.upload_blob(data)\n",
    "# Replace <account-name>, <account-key>, <container-name>, <local-file-path>, and <blob-name> with the appropriate values\n",
    "#for your Azure Blob Storage account and image file."
   ]
  },
  {
   "cell_type": "code",
   "execution_count": null,
   "id": "122aed9b",
   "metadata": {},
   "outputs": [],
   "source": []
  },
  {
   "cell_type": "code",
   "execution_count": null,
   "id": "431a097b",
   "metadata": {},
   "outputs": [],
   "source": []
  },
  {
   "cell_type": "code",
   "execution_count": null,
   "id": "dd206b36",
   "metadata": {},
   "outputs": [],
   "source": []
  },
  {
   "cell_type": "code",
   "execution_count": null,
   "id": "cf1a7db0",
   "metadata": {},
   "outputs": [],
   "source": []
  },
  {
   "cell_type": "code",
   "execution_count": null,
   "id": "4c0b5e38",
   "metadata": {},
   "outputs": [],
   "source": []
  },
  {
   "cell_type": "code",
   "execution_count": null,
   "id": "c1570a8c",
   "metadata": {},
   "outputs": [],
   "source": []
  }
 ],
 "metadata": {
  "kernelspec": {
   "display_name": "Python 3",
   "language": "python",
   "name": "python3"
  },
  "language_info": {
   "codemirror_mode": {
    "name": "ipython",
    "version": 3
   },
   "file_extension": ".py",
   "mimetype": "text/x-python",
   "name": "python",
   "nbconvert_exporter": "python",
   "pygments_lexer": "ipython3",
   "version": "3.8.8"
  }
 },
 "nbformat": 4,
 "nbformat_minor": 5
}
