{
 "cells": [
  {
   "cell_type": "code",
   "execution_count": null,
   "id": "c482843c",
   "metadata": {},
   "outputs": [],
   "source": []
  },
  {
   "cell_type": "code",
   "execution_count": 1,
   "id": "f8f3a629",
   "metadata": {},
   "outputs": [],
   "source": [
    "from skimage.metrics import structural_similarity\n",
    "import os\n",
    "import cv2\n",
    "from skimage.transform import resize\n",
    "import pandas as pd\n",
    "from IPython.display import Image"
   ]
  },
  {
   "cell_type": "markdown",
   "id": "274ee355",
   "metadata": {},
   "source": [
    "# ORB"
   ]
  },
  {
   "cell_type": "code",
   "execution_count": 2,
   "id": "970c3f45",
   "metadata": {},
   "outputs": [],
   "source": [
    "def orb_sim(img1,img2):\n",
    "    orb=cv2.ORB_create()\n",
    "    \n",
    "    kp_a,desc_a=orb.detectAndCompute(img1,None)\n",
    "    kp_b,desc_b=orb.detectAndCompute(img2,None)\n",
    "    \n",
    "    bf=cv2.BFMatcher(cv2.NORM_HAMMING,crossCheck=True)\n",
    "    matches= bf.match(desc_a,desc_b)\n",
    "    similar_region=[i for i in matches if i.distance<63]\n",
    "    if len(matches)==0:\n",
    "        return 0\n",
    "    return len(similar_region)/len(matches)\n"
   ]
  },
  {
   "cell_type": "code",
   "execution_count": 3,
   "id": "d24fb4dc",
   "metadata": {},
   "outputs": [],
   "source": [
    "x=\"1images.jpeg\"\n",
    "#y=\"GettyImages-1163331995-f5226107e4794ed5b334c23215ed28db.jpg\""
   ]
  },
  {
   "cell_type": "code",
   "execution_count": 4,
   "id": "239a1432",
   "metadata": {},
   "outputs": [],
   "source": [
    "#import os\n",
    "#os.listdir(os.getcwd()+\"\\\\pics\")"
   ]
  },
  {
   "cell_type": "code",
   "execution_count": 5,
   "id": "23338ddd",
   "metadata": {},
   "outputs": [],
   "source": [
    "img1=cv2.imread(x,0)\n",
    "#img2=cv2.imread(y,0)\n",
    "#img2=cv2.imread(\"1index.jpeg\",0)\n",
    "#orb_sim(img1,img2)*100"
   ]
  },
  {
   "cell_type": "code",
   "execution_count": 6,
   "id": "633e9c9c",
   "metadata": {},
   "outputs": [
    {
     "data": {
      "text/html": [
       "<div>\n",
       "<style scoped>\n",
       "    .dataframe tbody tr th:only-of-type {\n",
       "        vertical-align: middle;\n",
       "    }\n",
       "\n",
       "    .dataframe tbody tr th {\n",
       "        vertical-align: top;\n",
       "    }\n",
       "\n",
       "    .dataframe thead th {\n",
       "        text-align: right;\n",
       "    }\n",
       "</style>\n",
       "<table border=\"1\" class=\"dataframe\">\n",
       "  <thead>\n",
       "    <tr style=\"text-align: right;\">\n",
       "      <th></th>\n",
       "      <th>Image_name</th>\n",
       "      <th>ORB_numb</th>\n",
       "    </tr>\n",
       "  </thead>\n",
       "  <tbody>\n",
       "    <tr>\n",
       "      <th>0</th>\n",
       "      <td>inde1x.jpg</td>\n",
       "      <td>65.333333</td>\n",
       "    </tr>\n",
       "    <tr>\n",
       "      <th>1</th>\n",
       "      <td>images.jpeg</td>\n",
       "      <td>63.636364</td>\n",
       "    </tr>\n",
       "    <tr>\n",
       "      <th>2</th>\n",
       "      <td>1index.jpeg</td>\n",
       "      <td>51.685393</td>\n",
       "    </tr>\n",
       "    <tr>\n",
       "      <th>3</th>\n",
       "      <td>index.jpg</td>\n",
       "      <td>46.376812</td>\n",
       "    </tr>\n",
       "    <tr>\n",
       "      <th>4</th>\n",
       "      <td>black-dog-breeds-black-labrador-retriever-1566...</td>\n",
       "      <td>44.047619</td>\n",
       "    </tr>\n",
       "    <tr>\n",
       "      <th>5</th>\n",
       "      <td>GettyImages-1163331995-f5226107e4794ed5b334c23...</td>\n",
       "      <td>32.558140</td>\n",
       "    </tr>\n",
       "    <tr>\n",
       "      <th>6</th>\n",
       "      <td>237-536x354.jpg</td>\n",
       "      <td>24.242424</td>\n",
       "    </tr>\n",
       "    <tr>\n",
       "      <th>7</th>\n",
       "      <td>iendex.jpg</td>\n",
       "      <td>21.590909</td>\n",
       "    </tr>\n",
       "  </tbody>\n",
       "</table>\n",
       "</div>"
      ],
      "text/plain": [
       "                                          Image_name   ORB_numb\n",
       "0                                         inde1x.jpg  65.333333\n",
       "1                                        images.jpeg  63.636364\n",
       "2                                        1index.jpeg  51.685393\n",
       "3                                          index.jpg  46.376812\n",
       "4  black-dog-breeds-black-labrador-retriever-1566...  44.047619\n",
       "5  GettyImages-1163331995-f5226107e4794ed5b334c23...  32.558140\n",
       "6                                    237-536x354.jpg  24.242424\n",
       "7                                         iendex.jpg  21.590909"
      ]
     },
     "execution_count": 6,
     "metadata": {},
     "output_type": "execute_result"
    }
   ],
   "source": [
    "\n",
    "error=[]\n",
    "orb=[]\n",
    "imagee=[]\n",
    "\n",
    "os.chdir(os.getcwd()+\"\\\\pics\")\n",
    "for i in os.listdir(os.getcwd()):\n",
    "    \n",
    "    try:\n",
    "\n",
    "        \n",
    "        img2=cv2.imread(i,0)\n",
    "        #img2=cv2.imread(\"1index.jpeg\",0)\n",
    "        #print(\"Image\",i,\" orb==\",orb_sim(img1,img2)*100)\n",
    "        orb.append(orb_sim(img1,img2)*100)\n",
    "        imagee.append(i)\n",
    "        \n",
    "    except:\n",
    "       # print(\"soory\")\n",
    "        error.append(i)\n",
    "       # print(i)\n",
    "## data frame\n",
    "data = {\n",
    "  \"Image_name\": imagee,\n",
    "  \"ORB_numb\": orb}\n",
    "\n",
    "df = pd.DataFrame(data)\n",
    "df=df.sort_values('ORB_numb',ascending=False).reset_index(drop=True)\n",
    "df"
   ]
  },
  {
   "cell_type": "code",
   "execution_count": 12,
   "id": "600b6694",
   "metadata": {},
   "outputs": [
    {
     "name": "stdout",
     "output_type": "stream",
     "text": [
      "Orb 51.68539325842697\n"
     ]
    },
    {
     "data": {
      "image/jpeg": "[encoded data removed]",
      "text/plain": [
       "<IPython.core.display.Image object>"
      ]
     },
     "execution_count": 12,
     "metadata": {},
     "output_type": "execute_result"
    }
   ],
   "source": [
    "\n",
    "print(\"Orb\",df[\"ORB_numb\"][1])\n",
    "Image(filename=df[\"Image_name\"][1]) "
   ]
  },
  {
   "cell_type": "code",
   "execution_count": null,
   "id": "1dde1b38",
   "metadata": {},
   "outputs": [],
   "source": []
  },
  {
   "cell_type": "code",
   "execution_count": null,
   "id": "68ad1030",
   "metadata": {},
   "outputs": [],
   "source": []
  },
  {
   "cell_type": "raw",
   "id": "4566ebb0",
   "metadata": {},
   "source": [
    "## pip install azure-storage \n",
    "\n",
    "import os\n",
    "from azure.storage.blob import BlobServiceClient, BlobClient, ContainerClient\n",
    "\n",
    "# Define connection string and container name\n",
    "connect_str = \"DefaultEndpointsProtocol=https;AccountName=vfsbox;AccountKey=CRKLCAWfk/hPujbwPN4aEPjVa+ZhNMSXUt8gXtrGv1YcLiLPGpOVpYSmNKyWQS6+XCd41yEp/YnNfvQo6Yjirg==;EndpointSuffix=core.windows.net\"\n",
    "container_name = \"mlbucket\"\n",
    "\n",
    "# Create BlobServiceClient object\n",
    "blob_service_client = BlobServiceClient.from_connection_string(connect_str)\n",
    "\n",
    "# Create ContainerClient object\n",
    "container_client = blob_service_client.get_container_client(container_name)\n",
    "\n",
    "# Define local file path and blob name\n",
    "local_path = os.getcwd()\n",
    "blob_name = x\n",
    "\n",
    "# Create BlobClient object\n",
    "blob_client = blob_service_client.get_blob_client(container=container_name, blob=blob_name)\n",
    "\n",
    "# Upload blob to Azure Blob Storage\n",
    "with open(local_path, \"rb\") as data:\n",
    "    blob_client.upload_blob(data)\n",
    "# Replace <account-name>, <account-key>, <container-name>, <local-file-path>, and <blob-name> with the appropriate values\n",
    "#for your Azure Blob Storage account and image file."
   ]
  },
  {
   "cell_type": "code",
   "execution_count": 8,
   "id": "24d1836c",
   "metadata": {},
   "outputs": [],
   "source": [
    "from azure.storage.blob import BlobServiceClient"
   ]
  },
  {
   "cell_type": "code",
   "execution_count": 9,
   "id": "168b321c",
   "metadata": {},
   "outputs": [],
   "source": [
    "from azure.storage.blob import BlobServiceClient\n",
    "storage_account_key = \"CRKLCAWfk/hPujbwPN4aEPjVa+ZhNMSXUt8gXtrGv1YcLiLPGpOVpYSmNKyWQS6+XCd41yEp/YnNfvQo6Yjirg==\"\n",
    "storage_account_name = \"vfsbox\"\n",
    "connection_string = \"DefaultEndpointsProtocol=https;AccountName=vfsbox;AccountKey=CRKLCAWfk/hPujbwPN4aEPjVa+ZhNMSXUt8gXtrGv1YcLiLPGpOVpYSmNKyWQS6+XCd41yEp/YnNfvQo6Yjirg==;EndpointSuffix=core.windows.net\"\n",
    "container_name = \"mlbucket\"\n",
    "def uploadToBlobStorage(file_path,file_name):\n",
    "    blob_service_client = BlobServiceClient.from_connection_string(connection_string)\n",
    "    blob_client = blob_service_client.get_blob_client(container=container_name, blob=file_name)\n",
    "    with open(file_path,\"rb\") as data:\n",
    "        blob_client.upload_blob(data)\n",
    "        print(f\"Uploaded {file_name}.\")\n"
   ]
  },
  {
   "cell_type": "code",
   "execution_count": 10,
   "id": "dd3d9a9c",
   "metadata": {},
   "outputs": [
    {
     "ename": "PermissionError",
     "evalue": "[Errno 13] Permission denied: 'C:\\\\Users\\\\Mithu\\\\shubham\\\\a kaggle practice\\\\free lancer\\\\freelance53 (SSIM)\\\\pics'",
     "output_type": "error",
     "traceback": [
      "\u001b[1;31m---------------------------------------------------------------------------\u001b[0m",
      "\u001b[1;31mPermissionError\u001b[0m                           Traceback (most recent call last)",
      "\u001b[1;32m<ipython-input-10-3d5848bd97cd>\u001b[0m in \u001b[0;36m<module>\u001b[1;34m\u001b[0m\n\u001b[0;32m      1\u001b[0m \u001b[1;31m# calling a function to perform upload\u001b[0m\u001b[1;33m\u001b[0m\u001b[1;33m\u001b[0m\u001b[1;33m\u001b[0m\u001b[0m\n\u001b[1;32m----> 2\u001b[1;33m \u001b[0muploadToBlobStorage\u001b[0m\u001b[1;33m(\u001b[0m\u001b[0mos\u001b[0m\u001b[1;33m.\u001b[0m\u001b[0mgetcwd\u001b[0m\u001b[1;33m(\u001b[0m\u001b[1;33m)\u001b[0m\u001b[1;33m,\u001b[0m\u001b[0mx\u001b[0m\u001b[1;33m)\u001b[0m\u001b[1;33m\u001b[0m\u001b[1;33m\u001b[0m\u001b[0m\n\u001b[0m",
      "\u001b[1;32m<ipython-input-9-b8871700e160>\u001b[0m in \u001b[0;36muploadToBlobStorage\u001b[1;34m(file_path, file_name)\u001b[0m\n\u001b[0;32m      7\u001b[0m     \u001b[0mblob_service_client\u001b[0m \u001b[1;33m=\u001b[0m \u001b[0mBlobServiceClient\u001b[0m\u001b[1;33m.\u001b[0m\u001b[0mfrom_connection_string\u001b[0m\u001b[1;33m(\u001b[0m\u001b[0mconnection_string\u001b[0m\u001b[1;33m)\u001b[0m\u001b[1;33m\u001b[0m\u001b[1;33m\u001b[0m\u001b[0m\n\u001b[0;32m      8\u001b[0m     \u001b[0mblob_client\u001b[0m \u001b[1;33m=\u001b[0m \u001b[0mblob_service_client\u001b[0m\u001b[1;33m.\u001b[0m\u001b[0mget_blob_client\u001b[0m\u001b[1;33m(\u001b[0m\u001b[0mcontainer\u001b[0m\u001b[1;33m=\u001b[0m\u001b[0mcontainer_name\u001b[0m\u001b[1;33m,\u001b[0m \u001b[0mblob\u001b[0m\u001b[1;33m=\u001b[0m\u001b[0mfile_name\u001b[0m\u001b[1;33m)\u001b[0m\u001b[1;33m\u001b[0m\u001b[1;33m\u001b[0m\u001b[0m\n\u001b[1;32m----> 9\u001b[1;33m     \u001b[1;32mwith\u001b[0m \u001b[0mopen\u001b[0m\u001b[1;33m(\u001b[0m\u001b[0mfile_path\u001b[0m\u001b[1;33m,\u001b[0m\u001b[1;34m\"rb\"\u001b[0m\u001b[1;33m)\u001b[0m \u001b[1;32mas\u001b[0m \u001b[0mdata\u001b[0m\u001b[1;33m:\u001b[0m\u001b[1;33m\u001b[0m\u001b[1;33m\u001b[0m\u001b[0m\n\u001b[0m\u001b[0;32m     10\u001b[0m         \u001b[0mblob_client\u001b[0m\u001b[1;33m.\u001b[0m\u001b[0mupload_blob\u001b[0m\u001b[1;33m(\u001b[0m\u001b[0mdata\u001b[0m\u001b[1;33m)\u001b[0m\u001b[1;33m\u001b[0m\u001b[1;33m\u001b[0m\u001b[0m\n\u001b[0;32m     11\u001b[0m         \u001b[0mprint\u001b[0m\u001b[1;33m(\u001b[0m\u001b[1;34mf\"Uploaded {file_name}.\"\u001b[0m\u001b[1;33m)\u001b[0m\u001b[1;33m\u001b[0m\u001b[1;33m\u001b[0m\u001b[0m\n",
      "\u001b[1;31mPermissionError\u001b[0m: [Errno 13] Permission denied: 'C:\\\\Users\\\\Mithu\\\\shubham\\\\a kaggle practice\\\\free lancer\\\\freelance53 (SSIM)\\\\pics'"
     ]
    }
   ],
   "source": [
    "# calling a function to perform upload\n",
    "uploadToBlobStorage(os.getcwd(),x)"
   ]
  },
  {
   "cell_type": "code",
   "execution_count": null,
   "id": "3820f1a7",
   "metadata": {},
   "outputs": [],
   "source": []
  },
  {
   "cell_type": "code",
   "execution_count": null,
   "id": "7e530565",
   "metadata": {},
   "outputs": [],
   "source": []
  }
 ],
 "metadata": {
  "kernelspec": {
   "display_name": "Python 3",
   "language": "python",
   "name": "python3"
  },
  "language_info": {
   "codemirror_mode": {
    "name": "ipython",
    "version": 3
   },
   "file_extension": ".py",
   "mimetype": "text/x-python",
   "name": "python",
   "nbconvert_exporter": "python",
   "pygments_lexer": "ipython3",
   "version": "3.8.8"
  }
 },
 "nbformat": 4,
 "nbformat_minor": 5
}
